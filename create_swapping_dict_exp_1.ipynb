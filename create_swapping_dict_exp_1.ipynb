{
 "cells": [
  {
   "cell_type": "markdown",
   "id": "8aa3c26d",
   "metadata": {},
   "source": [
    "# Imports"
   ]
  },
  {
   "cell_type": "code",
   "execution_count": 6,
   "id": "30042603",
   "metadata": {},
   "outputs": [],
   "source": [
    "import os\n",
    "import sys\n",
    "from pathlib import Path\n",
    "import random\n",
    "import numpy as np\n",
    "import pickle\n",
    "from typing import List\n",
    "\n",
    "# Add the src directory to Python path\n",
    "olmo_core_path = Path.cwd() / \"src\"\n",
    "if olmo_core_path.exists():\n",
    "    sys.path.insert(0, str(olmo_core_path))\n",
    "\n",
    "from olmo_core.data import (\n",
    "    NumpyDataLoaderConfig,\n",
    "    NumpyDatasetConfig,\n",
    "    NumpyDatasetType,\n",
    "    TokenizerConfig,\n",
    ")\n",
    "from olmo_core.data.numpy_dataset import (\n",
    "    VSLCurriculumType,\n",
    "    VSLCurriculumConfig,\n",
    ")\n",
    "\n",
    "from olmo_core.data.chunk_ordering_utils import create_swapping_dict_for_steps_interval\n"
   ]
  },
  {
   "cell_type": "code",
   "execution_count": 7,
   "id": "bd408c08",
   "metadata": {},
   "outputs": [],
   "source": [
    "# Set your new cache base directory (change this to your preferred location)\n",
    "cache_base = \"/home/joberant/NLP_2425b/shirab6\"\n",
    "\n",
    "# Set all relevant Hugging Face cache directories\n",
    "os.environ[\"HF_HOME\"] = cache_base\n",
    "os.environ[\"TRANSFORMERS_CACHE\"] = os.path.join(cache_base, \"transformers\")\n",
    "os.environ[\"HF_DATASETS_CACHE\"] = os.path.join(cache_base, \"datasets\")\n",
    "os.environ[\"HF_TOKENIZERS_CACHE\"] = os.path.join(cache_base, \"tokenizers\")\n",
    "os.environ[\"TOKENIZERS_PARALLELISM\"] = \"false\"\n",
    "\n",
    "from olmo_eval import HFTokenizer\n",
    "from datasets import load_dataset"
   ]
  },
  {
   "cell_type": "markdown",
   "id": "82832f69",
   "metadata": {},
   "source": [
    "# Load all necesarry data"
   ]
  },
  {
   "cell_type": "code",
   "execution_count": 8,
   "id": "531661d6",
   "metadata": {},
   "outputs": [],
   "source": [
    "original_batches = np.load(\"/home/morg/students/gottesman3/knowledge-analysis-suite/OLMo-core/batch_indices.npy\", allow_pickle=True)\n",
    "\n",
    "with open('/home/joberant/NLP_2425b/shirab6/knowledge-analysis-suite/OLMo-core/chunk_ordering_data/rare_disjoint_entities_50-100.pkl', 'rb') as f:\n",
    "    rare_entities = pickle.load(f)\n",
    "\n"
   ]
  },
  {
   "cell_type": "code",
   "execution_count": 9,
   "id": "b20d33ae",
   "metadata": {},
   "outputs": [],
   "source": [
    "intervals = [1, 50, 100]\n",
    "save_file_path = '/home/joberant/NLP_2425b/shirab6/knowledge-analysis-suite/OLMo-core/chunk_ordering_data/'"
   ]
  },
  {
   "cell_type": "code",
   "execution_count": 10,
   "id": "ad015ceb",
   "metadata": {},
   "outputs": [],
   "source": [
    "# Setup dicts for the experiments\n",
    "for interval in intervals:\n",
    "    create_swapping_dict_for_steps_interval(interval, rare_entities, original_batches, save_file_path=save_file_path)\n"
   ]
  }
 ],
 "metadata": {
  "kernelspec": {
   "display_name": "ai2-olmo-2",
   "language": "python",
   "name": "python3"
  },
  "language_info": {
   "codemirror_mode": {
    "name": "ipython",
    "version": 3
   },
   "file_extension": ".py",
   "mimetype": "text/x-python",
   "name": "python",
   "nbconvert_exporter": "python",
   "pygments_lexer": "ipython3",
   "version": "3.11.11"
  }
 },
 "nbformat": 4,
 "nbformat_minor": 5
}
