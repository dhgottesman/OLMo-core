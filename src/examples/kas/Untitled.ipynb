{
 "cells": [
  {
   "cell_type": "markdown",
   "id": "5e0962e7-2ce7-4d6e-9051-5c9bdee70166",
   "metadata": {},
   "source": [
    "## Global Document Indices\n",
    "This is the file that indicates the bounds of each document (bucketed using function \"bucket_documents\" in olmo_core.data.utils) "
   ]
  },
  {
   "cell_type": "code",
   "execution_count": 308,
   "id": "78e868b2-1949-40f8-a8ca-5d71d81c9de8",
   "metadata": {},
   "outputs": [],
   "source": [
    "from olmo_core.data.utils import load_array_slice_into_tensor\n",
    "import numpy as np\n",
    "\n",
    "file_path = '/home/morg/students/gottesman3/knowledge-analysis-suite/OLMo-core/dataset-cache/dataset-common/bucketed-doc-indices-059058d45dc5ae8dedb089893239e458f86f2af4944b3ddc8ca6c3d10d64580c.npy'\n",
    "doc_indices = load_array_slice_into_tensor(file_path, 0, 1000000, np.uint32)"
   ]
  },
  {
   "cell_type": "code",
   "execution_count": 309,
   "id": "ca0df251-cb8a-4062-8d85-c50c700b2f80",
   "metadata": {},
   "outputs": [
    {
     "data": {
      "text/plain": [
       "139834"
      ]
     },
     "execution_count": 309,
     "metadata": {},
     "output_type": "execute_result"
    }
   ],
   "source": [
    "len(doc_indices)"
   ]
  },
  {
   "cell_type": "code",
   "execution_count": 310,
   "id": "36b405fd-add3-405c-8651-be8082b4ae2a",
   "metadata": {},
   "outputs": [],
   "source": [
    "import torch\n",
    "\n",
    "# Create list of start, end pairs\n",
    "start_end_pairs = [(doc_indices[i].item(), doc_indices[i+1].item()) \n",
    "                   for i in range(0, len(doc_indices) - 1, 2)]\n"
   ]
  },
  {
   "cell_type": "code",
   "execution_count": 418,
   "id": "9e22086f-b3ed-48ae-9397-d1bae4868c68",
   "metadata": {},
   "outputs": [],
   "source": [
    "doc_mmemap = np.memmap('/home/morg/students/gottesman3/knowledge-analysis-suite/dolma/python/wikipedia_vsl/part-00-00000.npy', dtype=np.int32, mode='r')\n"
   ]
  },
  {
   "cell_type": "code",
   "execution_count": 311,
   "id": "3d5ca0ca-7669-42b4-bd8f-c7fa94fa8548",
   "metadata": {},
   "outputs": [
    {
     "name": "stdout",
     "output_type": "stream",
     "text": [
      "(23192047, 23194095)\n",
      "[   43  5620 39051   616   220]\n",
      "(6928740, 6930788)\n",
      "[   41 28323 27466   689 23535]\n"
     ]
    }
   ],
   "source": [
    "print(start_end_pairs[30805])\n",
    "print(doc_mmemap[start_end_pairs[30805][0]:start_end_pairs[30805][1]][:5])\n",
    "\n",
    "print(start_end_pairs[9146])\n",
    "print(doc_mmemap[start_end_pairs[9146][0]: start_end_pairs[9146][1]][:5])\n",
    "\n",
    "# INDEX: 30805, input_ids first 5 tokens: tensor([   43,  5620, 39051,   616,   220])\n",
    "# INDEX: 9146, input_ids first 5 tokens: tensor([   41, 28323, 27466,   689, 23535])"
   ]
  },
  {
   "cell_type": "markdown",
   "id": "119c1a4d-deb5-4907-8c71-77705599ee1e",
   "metadata": {},
   "source": [
    "## Instance Lengths"
   ]
  },
  {
   "cell_type": "code",
   "execution_count": 312,
   "id": "3b54a60a-3c90-4547-9c07-ac97df5ebf9a",
   "metadata": {},
   "outputs": [],
   "source": [
    "instance_lengths = \"/home/morg/students/gottesman3/knowledge-analysis-suite/OLMo-core/dataset-cache/dataset-a467e3d28b51968cd6a61ff1615c8766c81e0697de465bf46324995390e73b27/instance-lengths.npy\"\n",
    "lengths = load_array_slice_into_tensor(instance_lengths, 0, 100000, np.uint16)"
   ]
  },
  {
   "cell_type": "code",
   "execution_count": 313,
   "id": "8651533e-d4f1-4db8-9f64-6ea2fbfe817d",
   "metadata": {},
   "outputs": [
    {
     "name": "stdout",
     "output_type": "stream",
     "text": [
      "tensor(2048) 2048\n",
      "tensor(2048) 2048\n"
     ]
    }
   ],
   "source": [
    "print(lengths[30805], start_end_pairs[30805][1] - start_end_pairs[30805][0])\n",
    "print(lengths[9146], start_end_pairs[9146][1] - start_end_pairs[9146][0])"
   ]
  },
  {
   "cell_type": "markdown",
   "id": "1524b68e-7e18-4c42-bbcd-dd9a5c256f19",
   "metadata": {},
   "source": [
    "## Indices of Instances with Length (2048, 1024, 512, 256)"
   ]
  },
  {
   "cell_type": "code",
   "execution_count": 314,
   "id": "d4b746ed-1582-49d0-92e2-d5cec7fe5e1c",
   "metadata": {},
   "outputs": [],
   "source": [
    "values_to_find = [2048, 1024, 512, 256]\n",
    "\n",
    "# Get indices for each value\n",
    "indices_dict = {val: torch.where(lengths == val)[0].tolist() for val in values_to_find}"
   ]
  },
  {
   "cell_type": "code",
   "execution_count": 315,
   "id": "2a94c359-2756-4cd6-9d71-1c4cd8b6869f",
   "metadata": {},
   "outputs": [
    {
     "name": "stdout",
     "output_type": "stream",
     "text": [
      "69917\n",
      "69917\n"
     ]
    }
   ],
   "source": [
    "print(len(indices_dict[2048]) + len(indices_dict[1024]) + len(indices_dict[512]) + len(indices_dict[256]))\n",
    "print(len(start_end_pairs))\n",
    "\n",
    "# This is the number of docs in the dataset, and also the same size of start_end_pairs, obviously."
   ]
  },
  {
   "cell_type": "markdown",
   "id": "39815e44-1139-4d41-9e82-be1895158e17",
   "metadata": {},
   "source": [
    "## Indices of Instances Buckets (2048, 1024, 512, 256) Epoch == 1"
   ]
  },
  {
   "cell_type": "code",
   "execution_count": 316,
   "id": "bddaf8d3-6b5f-47a2-8a19-c1a0e4a47436",
   "metadata": {},
   "outputs": [],
   "source": [
    "# Use this to identify the bounds of the documents accessed in epoch_1\n",
    "\n",
    "global_batch_indices_epoch_1 = \"/home/morg/students/gottesman3/knowledge-analysis-suite/OLMo-core/dataset-cache/dataset-a467e3d28b51968cd6a61ff1615c8766c81e0697de465bf46324995390e73b27/vsl-grow-p2-1-cycle-balanced/global_batch_indices_bz32768_epoch1_seed0.npy\"\n",
    "global_batch_epoch_1 = load_array_slice_into_tensor(global_batch_indices_epoch_1, 0, 10000, np.uint32)"
   ]
  },
  {
   "cell_type": "code",
   "execution_count": 317,
   "id": "c0db0da8-e236-4555-a23b-ab78e8aa9741",
   "metadata": {},
   "outputs": [
    {
     "data": {
      "text/plain": [
       "1040"
      ]
     },
     "execution_count": 317,
     "metadata": {},
     "output_type": "execute_result"
    }
   ],
   "source": [
    "len(global_batch_epoch_1)"
   ]
  },
  {
   "cell_type": "code",
   "execution_count": 417,
   "id": "00a2b5bb-3753-4bc2-a351-5df4fb94f75f",
   "metadata": {},
   "outputs": [
    {
     "data": {
      "text/plain": [
       "2"
      ]
     },
     "execution_count": 417,
     "metadata": {},
     "output_type": "execute_result"
    }
   ],
   "source": [
    "global_batch_epoch_1"
   ]
  },
  {
   "cell_type": "code",
   "execution_count": 346,
   "id": "92f900df-2cc1-4456-88e3-2b7a7216aae5",
   "metadata": {},
   "outputs": [],
   "source": [
    "instance_indices_bucket_2048 = \"/home/morg/students/gottesman3/knowledge-analysis-suite/OLMo-core/dataset-cache/dataset-a467e3d28b51968cd6a61ff1615c8766c81e0697de465bf46324995390e73b27/vsl-grow-p2-1-cycle-balanced/instance_indices_bucket2048_epoch1_seed0.npy\"\n",
    "instance_2048 = load_array_slice_into_tensor(instance_indices_bucket_2048, 0, 10000, np.uint32)\n",
    "\n",
    "instance_indices_bucket_1024 = \"/home/morg/students/gottesman3/knowledge-analysis-suite/OLMo-core/dataset-cache/dataset-a467e3d28b51968cd6a61ff1615c8766c81e0697de465bf46324995390e73b27/vsl-grow-p2-1-cycle-balanced/instance_indices_bucket1024_epoch1_seed0.npy\"\n",
    "instance_1024 = load_array_slice_into_tensor(instance_indices_bucket_1024, 0, 10000, np.uint32)\n",
    "\n",
    "instance_indices_bucket_512 = \"/home/morg/students/gottesman3/knowledge-analysis-suite/OLMo-core/dataset-cache/dataset-a467e3d28b51968cd6a61ff1615c8766c81e0697de465bf46324995390e73b27/vsl-grow-p2-1-cycle-balanced/instance_indices_bucket512_epoch1_seed0.npy\"\n",
    "instance_512 = load_array_slice_into_tensor(instance_indices_bucket_512, 0, 100000, np.uint32)\n",
    "\n",
    "instance_indices_bucket_256 = \"/home/morg/students/gottesman3/knowledge-analysis-suite/OLMo-core/dataset-cache/dataset-a467e3d28b51968cd6a61ff1615c8766c81e0697de465bf46324995390e73b27/vsl-grow-p2-1-cycle-balanced/instance_indices_bucket256_epoch1_seed0.npy\"\n",
    "instance_256 = load_array_slice_into_tensor(instance_indices_bucket_256, 0, 100000, np.uint32)"
   ]
  },
  {
   "cell_type": "code",
   "execution_count": 351,
   "id": "31d659be-e8e6-471f-9b13-d26563aa18f3",
   "metadata": {},
   "outputs": [
    {
     "data": {
      "text/plain": [
       "69917"
      ]
     },
     "execution_count": 351,
     "metadata": {},
     "output_type": "execute_result"
    }
   ],
   "source": [
    "len(instance_2048) + len(instance_1024) + len(instance_512) + len(instance_256)"
   ]
  },
  {
   "cell_type": "code",
   "execution_count": 374,
   "id": "fec6a125-790c-4a05-bed2-112e412e02a5",
   "metadata": {},
   "outputs": [
    {
     "name": "stdout",
     "output_type": "stream",
     "text": [
      "True\n",
      "True\n",
      "True\n",
      "True\n"
     ]
    }
   ],
   "source": [
    "print(all(start_end_pairs[inst][1] - start_end_pairs[inst][0] == 2048 for inst in instance_2048))\n",
    "print(all(start_end_pairs[inst][1] - start_end_pairs[inst][0] == 1024 for inst in instance_1024))\n",
    "print(all(start_end_pairs[inst][1] - start_end_pairs[inst][0] == 512 for inst in instance_512))\n",
    "print(all(start_end_pairs[inst][1] - start_end_pairs[inst][0] == 256 for inst in instance_256))"
   ]
  },
  {
   "cell_type": "markdown",
   "id": "5544dc95-67de-4755-98c3-dfc49800a7e5",
   "metadata": {},
   "source": [
    "## Global Bucket Indices in Dataloader\n",
    "Indices of docs in each bucket"
   ]
  },
  {
   "cell_type": "code",
   "execution_count": 386,
   "id": "52bedcb4-5852-47f3-a295-b8b759766be5",
   "metadata": {},
   "outputs": [],
   "source": [
    "bucket_2048_indices = \"/home/morg/students/gottesman3/knowledge-analysis-suite/OLMo-core/dataset-cache/dataset-a467e3d28b51968cd6a61ff1615c8766c81e0697de465bf46324995390e73b27/bucket2048-indices.npy\"\n",
    "bucket_2048_indices = load_array_slice_into_tensor(bucket_2048_indices, 0, 100000, np.uint32)\n",
    "\n",
    "bucket_1024_indices = \"/home/morg/students/gottesman3/knowledge-analysis-suite/OLMo-core/dataset-cache/dataset-a467e3d28b51968cd6a61ff1615c8766c81e0697de465bf46324995390e73b27/bucket1024-indices.npy\"\n",
    "bucket_1024_indices = load_array_slice_into_tensor(bucket_1024_indices, 0, 100000, np.uint32)\n",
    "\n",
    "bucket_512_indices = \"/home/morg/students/gottesman3/knowledge-analysis-suite/OLMo-core/dataset-cache/dataset-a467e3d28b51968cd6a61ff1615c8766c81e0697de465bf46324995390e73b27/bucket512-indices.npy\"\n",
    "bucket_512_indices = load_array_slice_into_tensor(bucket_512_indices, 0, 100000, np.uint32)\n",
    "\n",
    "bucket_256_indices = \"/home/morg/students/gottesman3/knowledge-analysis-suite/OLMo-core/dataset-cache/dataset-a467e3d28b51968cd6a61ff1615c8766c81e0697de465bf46324995390e73b27/bucket256-indices.npy\"\n",
    "bucket_256_indices = load_array_slice_into_tensor(bucket_256_indices, 0, 100000, np.uint32)\n"
   ]
  },
  {
   "cell_type": "code",
   "execution_count": 391,
   "id": "91cd12ec-dd37-4d60-a40b-4d41071b452f",
   "metadata": {},
   "outputs": [
    {
     "data": {
      "text/plain": [
       "69917"
      ]
     },
     "execution_count": 391,
     "metadata": {},
     "output_type": "execute_result"
    }
   ],
   "source": [
    "len(bucket_2048_indices) + len(bucket_1024_indices) + len(bucket_512_indices) + len(bucket_256_indices)"
   ]
  },
  {
   "cell_type": "code",
   "execution_count": 398,
   "id": "64e81ce7-09f3-455f-ab71-3f918d07dfbe",
   "metadata": {},
   "outputs": [
    {
     "name": "stdout",
     "output_type": "stream",
     "text": [
      "tensor([    5,    15,    16,  ..., 69862, 69871, 69904])\n",
      "tensor([52251, 12192,   834,  ..., 53179, 56377, 50864])\n"
     ]
    }
   ],
   "source": [
    "print(bucket_2048_indices)\n",
    "print(instance_2048)"
   ]
  },
  {
   "cell_type": "code",
   "execution_count": 399,
   "id": "e73f06a6-4c50-42c5-ba82-a5ea2f1886ab",
   "metadata": {},
   "outputs": [
    {
     "name": "stdout",
     "output_type": "stream",
     "text": [
      "tensor([    2,     6,     8,  ..., 69877, 69891, 69913])\n",
      "tensor([37302, 33164,   610,  ..., 67671, 29041,  3725])\n"
     ]
    }
   ],
   "source": [
    "print(bucket_1024_indices)\n",
    "print(instance_1024)"
   ]
  },
  {
   "cell_type": "code",
   "execution_count": 400,
   "id": "bfb5c3b1-c88b-44e1-b1e2-6f9ab67f432f",
   "metadata": {},
   "outputs": [
    {
     "name": "stdout",
     "output_type": "stream",
     "text": [
      "tensor([    3,     9,    11,  ..., 69911, 69914, 69915])\n",
      "tensor([28241, 35420, 66787,  ..., 61114, 43320, 61648])\n"
     ]
    }
   ],
   "source": [
    "print(bucket_512_indices)\n",
    "print(instance_512)"
   ]
  },
  {
   "cell_type": "code",
   "execution_count": 401,
   "id": "44513301-8252-45ef-8612-457d80a9169d",
   "metadata": {},
   "outputs": [
    {
     "name": "stdout",
     "output_type": "stream",
     "text": [
      "tensor([    0,     1,     4,  ..., 69910, 69912, 69916])\n",
      "tensor([18882, 52417,  4195,  ..., 10923, 65322, 16128])\n"
     ]
    }
   ],
   "source": [
    "print(bucket_256_indices)\n",
    "print(instance_256)"
   ]
  },
  {
   "cell_type": "code",
   "execution_count": null,
   "id": "2a23ecee-e376-4da3-a4d2-718a98ab4833",
   "metadata": {},
   "outputs": [
    {
     "name": "stdout",
     "output_type": "stream",
     "text": [
      "True\n",
      "True\n",
      "True\n",
      "True\n",
      "True\n",
      "True\n",
      "True\n",
      "True\n",
      "True\n"
     ]
    }
   ],
   "source": [
    "print(all(doc_index in bucket_2048_indices for doc_index in indices_dict[2048]))\n",
    "print(all(doc_index in indices_dict[2048] for doc_index in bucket_2048_indices))\n",
    "print(all(doc_index in instance_2048 for doc_index in indices_dict[2048]))\n",
    "print(all(doc_index in indices_dict[2048] for doc_index in instance_2048))\n",
    "\n",
    "print(all(doc_index in bucket_1024_indices for doc_index in indices_dict[1024]))\n",
    "print(all(doc_index in indices_dict[1024] for doc_index in bucket_1024_indices))\n",
    "print(all(doc_index in instance_1024 for doc_index in indices_dict[1024]))\n",
    "print(all(doc_index in indices_dict[1024] for doc_index in instance_1024))\n",
    "\n",
    "print(all(doc_index in bucket_512_indices for doc_index in indices_dict[512]))\n",
    "print(all(doc_index in indices_dict[512] for doc_index in bucket_512_indices))\n",
    "print(all(doc_index in instance_512 for doc_index in indices_dict[512]))\n",
    "print(all(doc_index in indices_dict[512] for doc_index in instance_512))\n",
    "\n",
    "print(all(doc_index in bucket_256_indices for doc_index in indices_dict[256]))\n",
    "print(all(doc_index in indices_dict[256] for doc_index in bucket_256_indices))\n",
    "print(all(doc_index in instance_256 for doc_index in indices_dict[256]))\n",
    "print(all(doc_index in indices_dict[256] for doc_index in instance_256))\n"
   ]
  },
  {
   "cell_type": "code",
   "execution_count": null,
   "id": "4493905c-b547-4e6e-a9a1-3bc15a4f2d8b",
   "metadata": {},
   "outputs": [],
   "source": []
  }
 ],
 "metadata": {
  "kernelspec": {
   "display_name": "Python 3 (ipykernel)",
   "language": "python",
   "name": "python3"
  },
  "language_info": {
   "codemirror_mode": {
    "name": "ipython",
    "version": 3
   },
   "file_extension": ".py",
   "mimetype": "text/x-python",
   "name": "python",
   "nbconvert_exporter": "python",
   "pygments_lexer": "ipython3",
   "version": "3.11.11"
  }
 },
 "nbformat": 4,
 "nbformat_minor": 5
}
