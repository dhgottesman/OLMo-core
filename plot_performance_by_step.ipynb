{
 "cells": [
  {
   "cell_type": "code",
   "execution_count": 1,
   "id": "39e2459c",
   "metadata": {},
   "outputs": [],
   "source": [
    "import os\n",
    "import json\n",
    "import matplotlib.pyplot as plt\n",
    "import seaborn as sns\n",
    "import pandas as pd"
   ]
  },
  {
   "cell_type": "code",
   "execution_count": 6,
   "id": "c66eb631",
   "metadata": {},
   "outputs": [],
   "source": [
    "CHECKPOINT_FOLDER = \"/home/morg/students/gottesman3/knowledge-analysis-suite/performance_by_step/\"\n",
    "OUTPUT_FOLDER = \"/home/joberant/NLP_2425b/shirab6/knowledge-analysis-suite/OLMo-core/performance_by_step_plots\"\n",
    "os.makedirs(OUTPUT_FOLDER, exist_ok=True)"
   ]
  },
  {
   "cell_type": "code",
   "execution_count": 3,
   "id": "9319b025",
   "metadata": {},
   "outputs": [],
   "source": [
    "def load_checkpoints(folder):\n",
    "    checkpoints = {}\n",
    "    for filename in os.listdir(folder):\n",
    "        if filename.endswith(\".json\"):\n",
    "            with open(os.path.join(folder, filename), \"r\") as f:\n",
    "                data = json.load(f)\n",
    "                checkpoint_name = os.path.splitext(filename)[0]\n",
    "                checkpoints[checkpoint_name] = data\n",
    "    return checkpoints"
   ]
  },
  {
   "cell_type": "code",
   "execution_count": 43,
   "id": "dd4a2a3f",
   "metadata": {},
   "outputs": [],
   "source": [
    "def extract_entity_data(checkpoint_data):\n",
    "    records = []\n",
    "    for entity_id, stats in checkpoint_data.items():\n",
    "        questions = stats.get(\"questions\", 0)\n",
    "        correct = stats.get(\"correct\", 0)\n",
    "        occurences = stats.get(\"occurences\", None)\n",
    "        last_occurence = stats.get(\"last_occurence\", None)\n",
    "\n",
    "        if questions > 0:\n",
    "            accuracy = correct / questions\n",
    "            records.append({\n",
    "                \"entity_id\": entity_id,\n",
    "                \"accuracy\": accuracy,\n",
    "                \"questions\": questions,      # ← include\n",
    "                \"correct\": correct,          # ← include\n",
    "                \"occurences\": occurences,\n",
    "                \"last_occurence\": last_occurence\n",
    "            })\n",
    "    return pd.DataFrame(records)"
   ]
  },
  {
   "cell_type": "code",
   "execution_count": null,
   "id": "b60e4ac1",
   "metadata": {},
   "outputs": [],
   "source": [
    "def plot_accuracy_by_field(df, field, checkpoint_name):\n",
    "    filtered_df = df[df[field].notnull()].copy()\n",
    "\n",
    "    # Ensure accuracy is valid\n",
    "    filtered_df = filtered_df[\n",
    "        (filtered_df[\"accuracy\"] >= 0) & (filtered_df[\"accuracy\"] <= 1)\n",
    "    ]\n",
    "\n",
    "    if filtered_df.empty:\n",
    "        print(f\"⚠️ No valid data for '{field}' in {checkpoint_name}, skipping plot.\")\n",
    "        return\n",
    "\n",
    "    # Choose binning strategy\n",
    "    try:\n",
    "        if field == \"occurences\":\n",
    "            filtered_df[\"bin\"] = pd.cut(filtered_df[field], bins=10)\n",
    "        else:\n",
    "            filtered_df[\"bin\"] = pd.qcut(filtered_df[field], q=10, duplicates=\"drop\")\n",
    "    except ValueError:\n",
    "        print(f\"⚠️ Could not bin '{field}' in {checkpoint_name}. Skipping.\")\n",
    "        return\n",
    "\n",
    "    # Group by bin and calculate total accuracy and entity count\n",
    "    grouped = (\n",
    "        filtered_df\n",
    "        .groupby(\"bin\", observed=True)\n",
    "        .agg(\n",
    "            total_questions=(\"questions\", \"sum\"),\n",
    "            total_correct=(\"correct\", \"sum\"),\n",
    "            entity_count=(\"entity_id\", \"count\")\n",
    "        )\n",
    "        .reset_index()\n",
    "    )\n",
    "    grouped[\"accuracy\"] = grouped[\"total_correct\"] / grouped[\"total_questions\"]\n",
    "    grouped[\"bin_label\"] = grouped[\"bin\"].astype(str)  # Convert Interval to str for plotting\n",
    "\n",
    "    # Plot\n",
    "    plt.figure(figsize=(10, 6))\n",
    "    ax = sns.barplot(x=\"bin_label\", y=\"accuracy\", data=grouped)\n",
    "    plt.xticks(rotation=45, ha='right')\n",
    "    plt.title(f\"{checkpoint_name}: Total Accuracy by Binned {field} (n={len(filtered_df)})\")\n",
    "    plt.ylabel(\"Bin Accuracy (Total Correct / Total Questions)\")\n",
    "    plt.xlabel(f\"{field.replace('_', ' ').title()} Bin Ranges\")\n",
    "    plt.ylim(0, 1)\n",
    "    plt.grid(True, linestyle=\"--\", alpha=0.5)\n",
    "\n",
    "    # Annotate entity count on each bar\n",
    "    for i, row in grouped.iterrows():\n",
    "        ax.text(\n",
    "            i,\n",
    "            row[\"accuracy\"] + 0.03,\n",
    "            f'{row[\"entity_count\"]} ents',\n",
    "            ha='center',\n",
    "            va='bottom',\n",
    "            fontsize=9\n",
    "        )\n",
    "\n",
    "    plt.tight_layout()\n",
    "    plot_path = os.path.join(OUTPUT_FOLDER, f\"{checkpoint_name}_binned_accuracy_by_{field}.png\")\n",
    "    plt.savefig(plot_path)\n",
    "    plt.close()\n",
    "    print(f\"✅ Saved plot: {plot_path}\")\n"
   ]
  },
  {
   "cell_type": "code",
   "execution_count": 47,
   "id": "3885a6b5",
   "metadata": {},
   "outputs": [
    {
     "name": "stdout",
     "output_type": "stream",
     "text": [
      "📊 Processing checkpoint: checkpoint_2\n"
     ]
    },
    {
     "ename": "KeyError",
     "evalue": "'bin'",
     "output_type": "error",
     "traceback": [
      "\u001b[0;31m---------------------------------------------------------------------------\u001b[0m",
      "\u001b[0;31mKeyError\u001b[0m                                  Traceback (most recent call last)",
      "File \u001b[0;32m/home/joberant/NLP_2425b/shirab6/miniconda3/envs/ai2-olmo-2/lib/python3.11/site-packages/pandas/core/indexes/base.py:3805\u001b[0m, in \u001b[0;36mIndex.get_loc\u001b[0;34m(self, key)\u001b[0m\n\u001b[1;32m   3804\u001b[0m \u001b[38;5;28;01mtry\u001b[39;00m:\n\u001b[0;32m-> 3805\u001b[0m     \u001b[38;5;28;01mreturn\u001b[39;00m \u001b[38;5;28;43mself\u001b[39;49m\u001b[38;5;241;43m.\u001b[39;49m\u001b[43m_engine\u001b[49m\u001b[38;5;241;43m.\u001b[39;49m\u001b[43mget_loc\u001b[49m\u001b[43m(\u001b[49m\u001b[43mcasted_key\u001b[49m\u001b[43m)\u001b[49m\n\u001b[1;32m   3806\u001b[0m \u001b[38;5;28;01mexcept\u001b[39;00m \u001b[38;5;167;01mKeyError\u001b[39;00m \u001b[38;5;28;01mas\u001b[39;00m err:\n",
      "File \u001b[0;32mindex.pyx:167\u001b[0m, in \u001b[0;36mpandas._libs.index.IndexEngine.get_loc\u001b[0;34m()\u001b[0m\n",
      "File \u001b[0;32mindex.pyx:196\u001b[0m, in \u001b[0;36mpandas._libs.index.IndexEngine.get_loc\u001b[0;34m()\u001b[0m\n",
      "File \u001b[0;32mpandas/_libs/hashtable_class_helper.pxi:7081\u001b[0m, in \u001b[0;36mpandas._libs.hashtable.PyObjectHashTable.get_item\u001b[0;34m()\u001b[0m\n",
      "File \u001b[0;32mpandas/_libs/hashtable_class_helper.pxi:7089\u001b[0m, in \u001b[0;36mpandas._libs.hashtable.PyObjectHashTable.get_item\u001b[0;34m()\u001b[0m\n",
      "\u001b[0;31mKeyError\u001b[0m: 'bin'",
      "\nThe above exception was the direct cause of the following exception:\n",
      "\u001b[0;31mKeyError\u001b[0m                                  Traceback (most recent call last)",
      "Cell \u001b[0;32mIn[47], line 5\u001b[0m\n\u001b[1;32m      3\u001b[0m \u001b[38;5;28mprint\u001b[39m(\u001b[38;5;124mf\u001b[39m\u001b[38;5;124m\"\u001b[39m\u001b[38;5;124m📊 Processing checkpoint: \u001b[39m\u001b[38;5;132;01m{\u001b[39;00mcheckpoint_name\u001b[38;5;132;01m}\u001b[39;00m\u001b[38;5;124m\"\u001b[39m)\n\u001b[1;32m      4\u001b[0m df \u001b[38;5;241m=\u001b[39m extract_entity_data(checkpoint_data)\n\u001b[0;32m----> 5\u001b[0m \u001b[43mplot_accuracy_by_field\u001b[49m\u001b[43m(\u001b[49m\u001b[43mdf\u001b[49m\u001b[43m,\u001b[49m\u001b[43m \u001b[49m\u001b[38;5;124;43m\"\u001b[39;49m\u001b[38;5;124;43moccurences\u001b[39;49m\u001b[38;5;124;43m\"\u001b[39;49m\u001b[43m,\u001b[49m\u001b[43m \u001b[49m\u001b[43mcheckpoint_name\u001b[49m\u001b[43m)\u001b[49m\n\u001b[1;32m      6\u001b[0m plot_accuracy_by_field(df, \u001b[38;5;124m\"\u001b[39m\u001b[38;5;124mlast_occurence\u001b[39m\u001b[38;5;124m\"\u001b[39m, checkpoint_name)\n",
      "Cell \u001b[0;32mIn[46], line 37\u001b[0m, in \u001b[0;36mplot_accuracy_by_field\u001b[0;34m(df, field, checkpoint_name)\u001b[0m\n\u001b[1;32m     35\u001b[0m \u001b[38;5;66;03m# Plot\u001b[39;00m\n\u001b[1;32m     36\u001b[0m plt\u001b[38;5;241m.\u001b[39mfigure(figsize\u001b[38;5;241m=\u001b[39m(\u001b[38;5;241m10\u001b[39m, \u001b[38;5;241m6\u001b[39m))\n\u001b[0;32m---> 37\u001b[0m grouped[\u001b[38;5;124m\"\u001b[39m\u001b[38;5;124mbin_label\u001b[39m\u001b[38;5;124m\"\u001b[39m] \u001b[38;5;241m=\u001b[39m \u001b[43mgrouped\u001b[49m\u001b[43m[\u001b[49m\u001b[38;5;124;43m\"\u001b[39;49m\u001b[38;5;124;43mbin\u001b[39;49m\u001b[38;5;124;43m\"\u001b[39;49m\u001b[43m]\u001b[49m\u001b[38;5;241m.\u001b[39mastype(\u001b[38;5;28mstr\u001b[39m)  \u001b[38;5;66;03m# convert Interval to string\u001b[39;00m\n\u001b[1;32m     38\u001b[0m ax \u001b[38;5;241m=\u001b[39m sns\u001b[38;5;241m.\u001b[39mbarplot(x\u001b[38;5;241m=\u001b[39m\u001b[38;5;124m\"\u001b[39m\u001b[38;5;124mbin_label\u001b[39m\u001b[38;5;124m\"\u001b[39m, y\u001b[38;5;241m=\u001b[39m\u001b[38;5;124m\"\u001b[39m\u001b[38;5;124maccuracy\u001b[39m\u001b[38;5;124m\"\u001b[39m, data\u001b[38;5;241m=\u001b[39mgrouped)\n\u001b[1;32m     39\u001b[0m plt\u001b[38;5;241m.\u001b[39mxticks(rotation\u001b[38;5;241m=\u001b[39m\u001b[38;5;241m45\u001b[39m, ha\u001b[38;5;241m=\u001b[39m\u001b[38;5;124m'\u001b[39m\u001b[38;5;124mright\u001b[39m\u001b[38;5;124m'\u001b[39m)\n",
      "File \u001b[0;32m/home/joberant/NLP_2425b/shirab6/miniconda3/envs/ai2-olmo-2/lib/python3.11/site-packages/pandas/core/frame.py:4102\u001b[0m, in \u001b[0;36mDataFrame.__getitem__\u001b[0;34m(self, key)\u001b[0m\n\u001b[1;32m   4100\u001b[0m \u001b[38;5;28;01mif\u001b[39;00m \u001b[38;5;28mself\u001b[39m\u001b[38;5;241m.\u001b[39mcolumns\u001b[38;5;241m.\u001b[39mnlevels \u001b[38;5;241m>\u001b[39m \u001b[38;5;241m1\u001b[39m:\n\u001b[1;32m   4101\u001b[0m     \u001b[38;5;28;01mreturn\u001b[39;00m \u001b[38;5;28mself\u001b[39m\u001b[38;5;241m.\u001b[39m_getitem_multilevel(key)\n\u001b[0;32m-> 4102\u001b[0m indexer \u001b[38;5;241m=\u001b[39m \u001b[38;5;28;43mself\u001b[39;49m\u001b[38;5;241;43m.\u001b[39;49m\u001b[43mcolumns\u001b[49m\u001b[38;5;241;43m.\u001b[39;49m\u001b[43mget_loc\u001b[49m\u001b[43m(\u001b[49m\u001b[43mkey\u001b[49m\u001b[43m)\u001b[49m\n\u001b[1;32m   4103\u001b[0m \u001b[38;5;28;01mif\u001b[39;00m is_integer(indexer):\n\u001b[1;32m   4104\u001b[0m     indexer \u001b[38;5;241m=\u001b[39m [indexer]\n",
      "File \u001b[0;32m/home/joberant/NLP_2425b/shirab6/miniconda3/envs/ai2-olmo-2/lib/python3.11/site-packages/pandas/core/indexes/base.py:3812\u001b[0m, in \u001b[0;36mIndex.get_loc\u001b[0;34m(self, key)\u001b[0m\n\u001b[1;32m   3807\u001b[0m     \u001b[38;5;28;01mif\u001b[39;00m \u001b[38;5;28misinstance\u001b[39m(casted_key, \u001b[38;5;28mslice\u001b[39m) \u001b[38;5;129;01mor\u001b[39;00m (\n\u001b[1;32m   3808\u001b[0m         \u001b[38;5;28misinstance\u001b[39m(casted_key, abc\u001b[38;5;241m.\u001b[39mIterable)\n\u001b[1;32m   3809\u001b[0m         \u001b[38;5;129;01mand\u001b[39;00m \u001b[38;5;28many\u001b[39m(\u001b[38;5;28misinstance\u001b[39m(x, \u001b[38;5;28mslice\u001b[39m) \u001b[38;5;28;01mfor\u001b[39;00m x \u001b[38;5;129;01min\u001b[39;00m casted_key)\n\u001b[1;32m   3810\u001b[0m     ):\n\u001b[1;32m   3811\u001b[0m         \u001b[38;5;28;01mraise\u001b[39;00m InvalidIndexError(key)\n\u001b[0;32m-> 3812\u001b[0m     \u001b[38;5;28;01mraise\u001b[39;00m \u001b[38;5;167;01mKeyError\u001b[39;00m(key) \u001b[38;5;28;01mfrom\u001b[39;00m \u001b[38;5;21;01merr\u001b[39;00m\n\u001b[1;32m   3813\u001b[0m \u001b[38;5;28;01mexcept\u001b[39;00m \u001b[38;5;167;01mTypeError\u001b[39;00m:\n\u001b[1;32m   3814\u001b[0m     \u001b[38;5;66;03m# If we have a listlike key, _check_indexing_error will raise\u001b[39;00m\n\u001b[1;32m   3815\u001b[0m     \u001b[38;5;66;03m#  InvalidIndexError. Otherwise we fall through and re-raise\u001b[39;00m\n\u001b[1;32m   3816\u001b[0m     \u001b[38;5;66;03m#  the TypeError.\u001b[39;00m\n\u001b[1;32m   3817\u001b[0m     \u001b[38;5;28mself\u001b[39m\u001b[38;5;241m.\u001b[39m_check_indexing_error(key)\n",
      "\u001b[0;31mKeyError\u001b[0m: 'bin'"
     ]
    },
    {
     "data": {
      "text/plain": [
       "<Figure size 1000x600 with 0 Axes>"
      ]
     },
     "metadata": {},
     "output_type": "display_data"
    }
   ],
   "source": [
    "checkpoints = load_checkpoints(CHECKPOINT_FOLDER)\n",
    "for checkpoint_name, checkpoint_data in checkpoints.items():\n",
    "    print(f\"📊 Processing checkpoint: {checkpoint_name}\")\n",
    "    df = extract_entity_data(checkpoint_data)\n",
    "    plot_accuracy_by_field(df, \"occurences\", checkpoint_name)\n",
    "    plot_accuracy_by_field(df, \"last_occurence\", checkpoint_name)"
   ]
  }
 ],
 "metadata": {
  "kernelspec": {
   "display_name": "ai2-olmo-2",
   "language": "python",
   "name": "python3"
  },
  "language_info": {
   "codemirror_mode": {
    "name": "ipython",
    "version": 3
   },
   "file_extension": ".py",
   "mimetype": "text/x-python",
   "name": "python",
   "nbconvert_exporter": "python",
   "pygments_lexer": "ipython3",
   "version": "3.11.11"
  }
 },
 "nbformat": 4,
 "nbformat_minor": 5
}
