{
 "cells": [
  {
   "cell_type": "code",
   "execution_count": 1,
   "id": "39e2459c",
   "metadata": {},
   "outputs": [],
   "source": [
    "import os\n",
    "import json\n",
    "import matplotlib.pyplot as plt\n",
    "import seaborn as sns\n",
    "import pandas as pd"
   ]
  },
  {
   "cell_type": "code",
   "execution_count": 67,
   "id": "c66eb631",
   "metadata": {},
   "outputs": [],
   "source": [
    "CHECKPOINT_FOLDER = \"/home/morg/students/gottesman3/knowledge-analysis-suite/performance_by_step/\"\n",
    "OUTPUT_FOLDER = \"/home/joberant/NLP_2425b/shirab6/knowledge-analysis-suite/OLMo-core/performance_by_step_plots/subject_chunks\"\n",
    "os.makedirs(OUTPUT_FOLDER, exist_ok=True)"
   ]
  },
  {
   "cell_type": "code",
   "execution_count": 74,
   "id": "98787be7",
   "metadata": {},
   "outputs": [],
   "source": [
    "SHARED_CHECKPOINT_FOLDER = \"/home/joberant/NLP_2425b/shirab6/knowledge-analysis-suite/OLMo-core/outputs\"\n",
    "OUTPUT_FOLDER = \"/home/joberant/NLP_2425b/shirab6/knowledge-analysis-suite/OLMo-core/performance_by_step_plots/shared_chunks\""
   ]
  },
  {
   "cell_type": "code",
   "execution_count": 59,
   "id": "9319b025",
   "metadata": {},
   "outputs": [],
   "source": [
    "def load_checkpoints(folder):\n",
    "    checkpoints = {}\n",
    "    for filename in os.listdir(folder):\n",
    "        if filename.endswith(\".json\"):\n",
    "            with open(os.path.join(folder, filename), \"r\") as f:\n",
    "                data = json.load(f)\n",
    "                checkpoint_name = os.path.splitext(filename)[0]\n",
    "                checkpoints[checkpoint_name] = data\n",
    "    return checkpoints"
   ]
  },
  {
   "cell_type": "code",
   "execution_count": 60,
   "id": "dd4a2a3f",
   "metadata": {},
   "outputs": [],
   "source": [
    "def extract_entity_data(checkpoint_data):\n",
    "    records = []\n",
    "    for entity_id, stats in checkpoint_data.items():\n",
    "        questions = stats.get(\"questions\", 0)\n",
    "        correct = stats.get(\"correct\", 0)\n",
    "        occurences = stats.get(\"occurences\", None)\n",
    "        last_occurence = stats.get(\"last_occurence\", None)\n",
    "\n",
    "        if questions > 0:\n",
    "            accuracy = correct / questions\n",
    "            records.append({\n",
    "                \"entity_id\": entity_id,\n",
    "                \"accuracy\": accuracy,\n",
    "                \"questions\": questions,      # ← include\n",
    "                \"correct\": correct,          # ← include\n",
    "                \"occurences\": occurences,\n",
    "                \"last_occurence\": last_occurence\n",
    "            })\n",
    "    return pd.DataFrame(records)"
   ]
  },
  {
   "cell_type": "code",
   "execution_count": null,
   "id": "b60e4ac1",
   "metadata": {},
   "outputs": [],
   "source": [
    "import numpy as np\n",
    "import matplotlib.pyplot as plt\n",
    "import seaborn as sns\n",
    "import pandas as pd\n",
    "import os\n",
    "\n",
    "def plot_accuracy_by_field(df, field, checkpoint_name):\n",
    "    filtered_df = df[df[field].notnull()].copy()\n",
    "\n",
    "    # Ensure accuracy is in [0, 1]\n",
    "    filtered_df = filtered_df[\n",
    "        (filtered_df[\"accuracy\"] >= 0) & (filtered_df[\"accuracy\"] <= 1)\n",
    "    ]\n",
    "\n",
    "    if filtered_df.empty:\n",
    "        print(f\"⚠️ No valid data for '{field}' in {checkpoint_name}, skipping plot.\")\n",
    "        return\n",
    "\n",
    "    # Binning strategy\n",
    "    try:\n",
    "        max_val = filtered_df[field].max()\n",
    "        if max_val == 0:\n",
    "            print(f\"⚠️ Max value of '{field}' is 0 in {checkpoint_name}, skipping.\")\n",
    "            return\n",
    "        bin_edges = np.linspace(0, max_val, num=11)  # 10 bins from 0 to max\n",
    "        filtered_df[\"bin\"] = pd.cut(\n",
    "            filtered_df[field], bins=bin_edges, include_lowest=True\n",
    "        )\n",
    "    except ValueError:\n",
    "        print(f\"⚠️ Could not bin '{field}' in {checkpoint_name}. Skipping.\")\n",
    "        return\n",
    "\n",
    "    # Group by bin - keep empty bins\n",
    "    grouped = (\n",
    "        filtered_df\n",
    "        .groupby(\"bin\", observed=False)  # Keep empty categories\n",
    "        .agg(\n",
    "            total_questions=(\"questions\", \"sum\"),\n",
    "            total_correct=(\"correct\", \"sum\"),\n",
    "            entity_count=(\"entity_id\", \"count\")\n",
    "        )\n",
    "        .reset_index()\n",
    "    )\n",
    "    grouped[\"accuracy\"] = grouped.apply(\n",
    "        lambda row: row[\"total_correct\"] / row[\"total_questions\"] if row[\"total_questions\"] > 0 else 0, \n",
    "        axis=1\n",
    "    )    \n",
    "    grouped[\"bin_label\"] = grouped[\"bin\"].astype(str)\n",
    "\n",
    "    # Plot\n",
    "    plt.figure(figsize=(10, 6))\n",
    "    ax = sns.barplot(x=\"bin_label\", y=\"accuracy\", data=grouped)\n",
    "    plt.xticks(rotation=45, ha='right')\n",
    "    plt.title(f\"{checkpoint_name}: Accuracy by {field} (n={len(filtered_df)})\")\n",
    "    plt.ylabel(\"Accuracy (Total Correct / Total Questions)\")\n",
    "    plt.xlabel(f\"{field.replace('_', ' ').title()}\")\n",
    "    plt.ylim(0, 1.11)\n",
    "    plt.grid(True, linestyle=\"--\", alpha=0.5)\n",
    "\n",
    "    # Annotate entity counts\n",
    "    for i, row in grouped.iterrows():\n",
    "        ax.text(\n",
    "            i,\n",
    "            row[\"accuracy\"] + 0.03,\n",
    "            f'n={row[\"entity_count\"]}',\n",
    "            ha='center',\n",
    "            va='bottom',\n",
    "            fontsize=9\n",
    "        )\n",
    "\n",
    "    plt.tight_layout()\n",
    "    plot_path = os.path.join(OUTPUT_FOLDER, f\"{checkpoint_name}_binned_accuracy_by_{field}.png\")\n",
    "    plt.savefig(plot_path)\n",
    "    plt.close()\n",
    "    print(f\"✅ Saved plot: {plot_path}\")\n"
   ]
  },
  {
   "cell_type": "code",
   "execution_count": 90,
   "id": "cdbf96e9",
   "metadata": {},
   "outputs": [],
   "source": [
    "def plot_occurences_of_last_seen_entities(df, checkpoint_name):\n",
    "    # Filter entities with valid last_occurence and occurences\n",
    "    filtered_df = df[df[\"last_occurence\"].notnull() & df[\"occurences\"].notnull()].copy()\n",
    "\n",
    "    if filtered_df.empty:\n",
    "        print(f\"⚠️ No data for occurences + last_occurence in {checkpoint_name}, skipping cross-bin plot.\")\n",
    "        return\n",
    "\n",
    "    # Binning strategy for last_occurence\n",
    "    try:\n",
    "        max_val = filtered_df[\"last_occurence\"].max()\n",
    "        if max_val == 0:\n",
    "            print(f\"⚠️ Max value of 'last_occurence' is 0 in {checkpoint_name}, skipping.\")\n",
    "            return\n",
    "        bin_edges = np.linspace(0, max_val, num=11)  # 10 bins from 0 to max\n",
    "        filtered_df[\"last_bin\"] = pd.cut(\n",
    "            filtered_df[\"last_occurence\"], bins=bin_edges, include_lowest=True\n",
    "        )\n",
    "    except ValueError:\n",
    "        print(f\"⚠️ Could not bin last_occurence in {checkpoint_name}, skipping.\")\n",
    "        return\n",
    "\n",
    "    # Identify the last bin\n",
    "    last_bin = filtered_df[\"last_bin\"].cat.categories[-1]\n",
    "    print(last_bin)\n",
    "    last_seen_df = filtered_df[filtered_df[\"last_bin\"] == last_bin]\n",
    "\n",
    "    if last_seen_df.empty:\n",
    "        print(f\"⚠️ No entities in last bin of last_occurence in {checkpoint_name}, skipping.\")\n",
    "        return\n",
    "\n",
    "    # Fixed bins for occurences: 0-10, 10-100, 100-1000, 1000+\n",
    "    max_val = last_seen_df[\"occurences\"].max()\n",
    "    if max_val == 0:\n",
    "        print(f\"⚠️ All occurences are 0 for last-seen entities in {checkpoint_name}. Skipping.\")\n",
    "        return\n",
    "\n",
    "    # Define fixed bin edges\n",
    "    bin_edges = [0, 10, 100, 1000, float('inf')]\n",
    "    bin_labels = ['0-10', '10-100', '100-1000', '1000+']\n",
    "    \n",
    "    last_seen_df[\"occur_bin\"] = pd.cut(\n",
    "        last_seen_df[\"occurences\"], \n",
    "        bins=bin_edges, \n",
    "        labels=bin_labels,\n",
    "        include_lowest=True,\n",
    "        right=False  # Use [0, 10), [10, 100), [100, 1000), [1000, inf)\n",
    "    )\n",
    "\n",
    "    # Count how many entities fall into each occurence bin\n",
    "    grouped = (\n",
    "        last_seen_df\n",
    "        .groupby(\"occur_bin\", observed=True)\n",
    "        .agg(entity_count=(\"entity_id\", \"count\"))\n",
    "        .reset_index()\n",
    "    )\n",
    "    grouped[\"bin_label\"] = grouped[\"occur_bin\"].astype(str)\n",
    "\n",
    "    # Plot\n",
    "    plt.figure(figsize=(10, 6))\n",
    "    ax = sns.barplot(x=\"bin_label\", y=\"entity_count\", data=grouped)\n",
    "    plt.xticks(rotation=45, ha='right')\n",
    "    plt.title(f\"{checkpoint_name}: Occurence Bins of Last-Seen Entities\")\n",
    "    plt.ylabel(\"Entity Count\")\n",
    "    plt.xlabel(\"Occurences Bin\")\n",
    "    plt.grid(True, linestyle=\"--\", alpha=0.5)\n",
    "    plt.tight_layout()\n",
    "\n",
    "    plot_path = os.path.join(OUTPUT_FOLDER, f\"{checkpoint_name}_last_seen_entities_by_occurences.png\")\n",
    "    plt.savefig(plot_path)\n",
    "    plt.close()\n",
    "    print(f\"✅ Saved last-seen occurence bin plot: {plot_path}\")"
   ]
  },
  {
   "cell_type": "code",
   "execution_count": 91,
   "id": "3885a6b5",
   "metadata": {},
   "outputs": [
    {
     "name": "stdout",
     "output_type": "stream",
     "text": [
      "📊 Processing checkpoint: checkpoint_1\n",
      "✅ Saved plot: /home/joberant/NLP_2425b/shirab6/knowledge-analysis-suite/OLMo-core/performance_by_step_plots/shared_chunks/checkpoint_1_binned_accuracy_by_occurences.png\n",
      "✅ Saved plot: /home/joberant/NLP_2425b/shirab6/knowledge-analysis-suite/OLMo-core/performance_by_step_plots/shared_chunks/checkpoint_1_binned_accuracy_by_last_occurence.png\n",
      "(8999.1, 9999.0]\n",
      "✅ Saved last-seen occurence bin plot: /home/joberant/NLP_2425b/shirab6/knowledge-analysis-suite/OLMo-core/performance_by_step_plots/shared_chunks/checkpoint_1_last_seen_entities_by_occurences.png\n",
      "📊 Processing checkpoint: checkpoint_2\n"
     ]
    },
    {
     "name": "stderr",
     "output_type": "stream",
     "text": [
      "/tmp/ipykernel_1332943/2352872896.py:42: SettingWithCopyWarning: \n",
      "A value is trying to be set on a copy of a slice from a DataFrame.\n",
      "Try using .loc[row_indexer,col_indexer] = value instead\n",
      "\n",
      "See the caveats in the documentation: https://pandas.pydata.org/pandas-docs/stable/user_guide/indexing.html#returning-a-view-versus-a-copy\n",
      "  last_seen_df[\"occur_bin\"] = pd.cut(\n"
     ]
    },
    {
     "name": "stdout",
     "output_type": "stream",
     "text": [
      "✅ Saved plot: /home/joberant/NLP_2425b/shirab6/knowledge-analysis-suite/OLMo-core/performance_by_step_plots/shared_chunks/checkpoint_2_binned_accuracy_by_occurences.png\n",
      "✅ Saved plot: /home/joberant/NLP_2425b/shirab6/knowledge-analysis-suite/OLMo-core/performance_by_step_plots/shared_chunks/checkpoint_2_binned_accuracy_by_last_occurence.png\n",
      "(17999.1, 19999.0]\n"
     ]
    },
    {
     "name": "stderr",
     "output_type": "stream",
     "text": [
      "/tmp/ipykernel_1332943/2352872896.py:42: SettingWithCopyWarning: \n",
      "A value is trying to be set on a copy of a slice from a DataFrame.\n",
      "Try using .loc[row_indexer,col_indexer] = value instead\n",
      "\n",
      "See the caveats in the documentation: https://pandas.pydata.org/pandas-docs/stable/user_guide/indexing.html#returning-a-view-versus-a-copy\n",
      "  last_seen_df[\"occur_bin\"] = pd.cut(\n"
     ]
    },
    {
     "name": "stdout",
     "output_type": "stream",
     "text": [
      "✅ Saved last-seen occurence bin plot: /home/joberant/NLP_2425b/shirab6/knowledge-analysis-suite/OLMo-core/performance_by_step_plots/shared_chunks/checkpoint_2_last_seen_entities_by_occurences.png\n",
      "📊 Processing checkpoint: checkpoint_3\n",
      "✅ Saved plot: /home/joberant/NLP_2425b/shirab6/knowledge-analysis-suite/OLMo-core/performance_by_step_plots/shared_chunks/checkpoint_3_binned_accuracy_by_occurences.png\n",
      "✅ Saved plot: /home/joberant/NLP_2425b/shirab6/knowledge-analysis-suite/OLMo-core/performance_by_step_plots/shared_chunks/checkpoint_3_binned_accuracy_by_last_occurence.png\n",
      "(26999.1, 29999.0]\n",
      "✅ Saved last-seen occurence bin plot: /home/joberant/NLP_2425b/shirab6/knowledge-analysis-suite/OLMo-core/performance_by_step_plots/shared_chunks/checkpoint_3_last_seen_entities_by_occurences.png\n",
      "📊 Processing checkpoint: checkpoint_4\n"
     ]
    },
    {
     "name": "stderr",
     "output_type": "stream",
     "text": [
      "/tmp/ipykernel_1332943/2352872896.py:42: SettingWithCopyWarning: \n",
      "A value is trying to be set on a copy of a slice from a DataFrame.\n",
      "Try using .loc[row_indexer,col_indexer] = value instead\n",
      "\n",
      "See the caveats in the documentation: https://pandas.pydata.org/pandas-docs/stable/user_guide/indexing.html#returning-a-view-versus-a-copy\n",
      "  last_seen_df[\"occur_bin\"] = pd.cut(\n"
     ]
    },
    {
     "name": "stdout",
     "output_type": "stream",
     "text": [
      "✅ Saved plot: /home/joberant/NLP_2425b/shirab6/knowledge-analysis-suite/OLMo-core/performance_by_step_plots/shared_chunks/checkpoint_4_binned_accuracy_by_occurences.png\n",
      "✅ Saved plot: /home/joberant/NLP_2425b/shirab6/knowledge-analysis-suite/OLMo-core/performance_by_step_plots/shared_chunks/checkpoint_4_binned_accuracy_by_last_occurence.png\n",
      "(35999.1, 39999.0]\n",
      "✅ Saved last-seen occurence bin plot: /home/joberant/NLP_2425b/shirab6/knowledge-analysis-suite/OLMo-core/performance_by_step_plots/shared_chunks/checkpoint_4_last_seen_entities_by_occurences.png\n",
      "📊 Processing checkpoint: checkpoint_5\n"
     ]
    },
    {
     "name": "stderr",
     "output_type": "stream",
     "text": [
      "/tmp/ipykernel_1332943/2352872896.py:42: SettingWithCopyWarning: \n",
      "A value is trying to be set on a copy of a slice from a DataFrame.\n",
      "Try using .loc[row_indexer,col_indexer] = value instead\n",
      "\n",
      "See the caveats in the documentation: https://pandas.pydata.org/pandas-docs/stable/user_guide/indexing.html#returning-a-view-versus-a-copy\n",
      "  last_seen_df[\"occur_bin\"] = pd.cut(\n"
     ]
    },
    {
     "name": "stdout",
     "output_type": "stream",
     "text": [
      "✅ Saved plot: /home/joberant/NLP_2425b/shirab6/knowledge-analysis-suite/OLMo-core/performance_by_step_plots/shared_chunks/checkpoint_5_binned_accuracy_by_occurences.png\n",
      "✅ Saved plot: /home/joberant/NLP_2425b/shirab6/knowledge-analysis-suite/OLMo-core/performance_by_step_plots/shared_chunks/checkpoint_5_binned_accuracy_by_last_occurence.png\n",
      "(44999.1, 49999.0]\n"
     ]
    },
    {
     "name": "stderr",
     "output_type": "stream",
     "text": [
      "/tmp/ipykernel_1332943/2352872896.py:42: SettingWithCopyWarning: \n",
      "A value is trying to be set on a copy of a slice from a DataFrame.\n",
      "Try using .loc[row_indexer,col_indexer] = value instead\n",
      "\n",
      "See the caveats in the documentation: https://pandas.pydata.org/pandas-docs/stable/user_guide/indexing.html#returning-a-view-versus-a-copy\n",
      "  last_seen_df[\"occur_bin\"] = pd.cut(\n"
     ]
    },
    {
     "name": "stdout",
     "output_type": "stream",
     "text": [
      "✅ Saved last-seen occurence bin plot: /home/joberant/NLP_2425b/shirab6/knowledge-analysis-suite/OLMo-core/performance_by_step_plots/shared_chunks/checkpoint_5_last_seen_entities_by_occurences.png\n",
      "📊 Processing checkpoint: checkpoint_6\n",
      "✅ Saved plot: /home/joberant/NLP_2425b/shirab6/knowledge-analysis-suite/OLMo-core/performance_by_step_plots/shared_chunks/checkpoint_6_binned_accuracy_by_occurences.png\n",
      "✅ Saved plot: /home/joberant/NLP_2425b/shirab6/knowledge-analysis-suite/OLMo-core/performance_by_step_plots/shared_chunks/checkpoint_6_binned_accuracy_by_last_occurence.png\n",
      "(53999.1, 59999.0]\n",
      "✅ Saved last-seen occurence bin plot: /home/joberant/NLP_2425b/shirab6/knowledge-analysis-suite/OLMo-core/performance_by_step_plots/shared_chunks/checkpoint_6_last_seen_entities_by_occurences.png\n",
      "📊 Processing checkpoint: checkpoint_7\n"
     ]
    },
    {
     "name": "stderr",
     "output_type": "stream",
     "text": [
      "/tmp/ipykernel_1332943/2352872896.py:42: SettingWithCopyWarning: \n",
      "A value is trying to be set on a copy of a slice from a DataFrame.\n",
      "Try using .loc[row_indexer,col_indexer] = value instead\n",
      "\n",
      "See the caveats in the documentation: https://pandas.pydata.org/pandas-docs/stable/user_guide/indexing.html#returning-a-view-versus-a-copy\n",
      "  last_seen_df[\"occur_bin\"] = pd.cut(\n"
     ]
    },
    {
     "name": "stdout",
     "output_type": "stream",
     "text": [
      "✅ Saved plot: /home/joberant/NLP_2425b/shirab6/knowledge-analysis-suite/OLMo-core/performance_by_step_plots/shared_chunks/checkpoint_7_binned_accuracy_by_occurences.png\n",
      "✅ Saved plot: /home/joberant/NLP_2425b/shirab6/knowledge-analysis-suite/OLMo-core/performance_by_step_plots/shared_chunks/checkpoint_7_binned_accuracy_by_last_occurence.png\n",
      "(62999.1, 69999.0]\n",
      "✅ Saved last-seen occurence bin plot: /home/joberant/NLP_2425b/shirab6/knowledge-analysis-suite/OLMo-core/performance_by_step_plots/shared_chunks/checkpoint_7_last_seen_entities_by_occurences.png\n",
      "📊 Processing checkpoint: checkpoint_8\n"
     ]
    },
    {
     "name": "stderr",
     "output_type": "stream",
     "text": [
      "/tmp/ipykernel_1332943/2352872896.py:42: SettingWithCopyWarning: \n",
      "A value is trying to be set on a copy of a slice from a DataFrame.\n",
      "Try using .loc[row_indexer,col_indexer] = value instead\n",
      "\n",
      "See the caveats in the documentation: https://pandas.pydata.org/pandas-docs/stable/user_guide/indexing.html#returning-a-view-versus-a-copy\n",
      "  last_seen_df[\"occur_bin\"] = pd.cut(\n"
     ]
    },
    {
     "name": "stdout",
     "output_type": "stream",
     "text": [
      "✅ Saved plot: /home/joberant/NLP_2425b/shirab6/knowledge-analysis-suite/OLMo-core/performance_by_step_plots/shared_chunks/checkpoint_8_binned_accuracy_by_occurences.png\n",
      "✅ Saved plot: /home/joberant/NLP_2425b/shirab6/knowledge-analysis-suite/OLMo-core/performance_by_step_plots/shared_chunks/checkpoint_8_binned_accuracy_by_last_occurence.png\n",
      "(71999.1, 79999.0]\n",
      "✅ Saved last-seen occurence bin plot: /home/joberant/NLP_2425b/shirab6/knowledge-analysis-suite/OLMo-core/performance_by_step_plots/shared_chunks/checkpoint_8_last_seen_entities_by_occurences.png\n",
      "📊 Processing checkpoint: checkpoint_9\n"
     ]
    },
    {
     "name": "stderr",
     "output_type": "stream",
     "text": [
      "/tmp/ipykernel_1332943/2352872896.py:42: SettingWithCopyWarning: \n",
      "A value is trying to be set on a copy of a slice from a DataFrame.\n",
      "Try using .loc[row_indexer,col_indexer] = value instead\n",
      "\n",
      "See the caveats in the documentation: https://pandas.pydata.org/pandas-docs/stable/user_guide/indexing.html#returning-a-view-versus-a-copy\n",
      "  last_seen_df[\"occur_bin\"] = pd.cut(\n"
     ]
    },
    {
     "name": "stdout",
     "output_type": "stream",
     "text": [
      "✅ Saved plot: /home/joberant/NLP_2425b/shirab6/knowledge-analysis-suite/OLMo-core/performance_by_step_plots/shared_chunks/checkpoint_9_binned_accuracy_by_occurences.png\n",
      "✅ Saved plot: /home/joberant/NLP_2425b/shirab6/knowledge-analysis-suite/OLMo-core/performance_by_step_plots/shared_chunks/checkpoint_9_binned_accuracy_by_last_occurence.png\n",
      "(80999.1, 89999.0]\n"
     ]
    },
    {
     "name": "stderr",
     "output_type": "stream",
     "text": [
      "/tmp/ipykernel_1332943/2352872896.py:42: SettingWithCopyWarning: \n",
      "A value is trying to be set on a copy of a slice from a DataFrame.\n",
      "Try using .loc[row_indexer,col_indexer] = value instead\n",
      "\n",
      "See the caveats in the documentation: https://pandas.pydata.org/pandas-docs/stable/user_guide/indexing.html#returning-a-view-versus-a-copy\n",
      "  last_seen_df[\"occur_bin\"] = pd.cut(\n"
     ]
    },
    {
     "name": "stdout",
     "output_type": "stream",
     "text": [
      "✅ Saved last-seen occurence bin plot: /home/joberant/NLP_2425b/shirab6/knowledge-analysis-suite/OLMo-core/performance_by_step_plots/shared_chunks/checkpoint_9_last_seen_entities_by_occurences.png\n",
      "📊 Processing checkpoint: checkpoint_10\n",
      "✅ Saved plot: /home/joberant/NLP_2425b/shirab6/knowledge-analysis-suite/OLMo-core/performance_by_step_plots/shared_chunks/checkpoint_10_binned_accuracy_by_occurences.png\n",
      "✅ Saved plot: /home/joberant/NLP_2425b/shirab6/knowledge-analysis-suite/OLMo-core/performance_by_step_plots/shared_chunks/checkpoint_10_binned_accuracy_by_last_occurence.png\n",
      "(89999.1, 99999.0]\n",
      "✅ Saved last-seen occurence bin plot: /home/joberant/NLP_2425b/shirab6/knowledge-analysis-suite/OLMo-core/performance_by_step_plots/shared_chunks/checkpoint_10_last_seen_entities_by_occurences.png\n",
      "📊 Processing checkpoint: checkpoint_final\n"
     ]
    },
    {
     "name": "stderr",
     "output_type": "stream",
     "text": [
      "/tmp/ipykernel_1332943/2352872896.py:42: SettingWithCopyWarning: \n",
      "A value is trying to be set on a copy of a slice from a DataFrame.\n",
      "Try using .loc[row_indexer,col_indexer] = value instead\n",
      "\n",
      "See the caveats in the documentation: https://pandas.pydata.org/pandas-docs/stable/user_guide/indexing.html#returning-a-view-versus-a-copy\n",
      "  last_seen_df[\"occur_bin\"] = pd.cut(\n"
     ]
    },
    {
     "name": "stdout",
     "output_type": "stream",
     "text": [
      "✅ Saved plot: /home/joberant/NLP_2425b/shirab6/knowledge-analysis-suite/OLMo-core/performance_by_step_plots/shared_chunks/checkpoint_final_binned_accuracy_by_occurences.png\n",
      "✅ Saved plot: /home/joberant/NLP_2425b/shirab6/knowledge-analysis-suite/OLMo-core/performance_by_step_plots/shared_chunks/checkpoint_final_binned_accuracy_by_last_occurence.png\n",
      "(98703.9, 109671.0]\n",
      "✅ Saved last-seen occurence bin plot: /home/joberant/NLP_2425b/shirab6/knowledge-analysis-suite/OLMo-core/performance_by_step_plots/shared_chunks/checkpoint_final_last_seen_entities_by_occurences.png\n"
     ]
    },
    {
     "name": "stderr",
     "output_type": "stream",
     "text": [
      "/tmp/ipykernel_1332943/2352872896.py:42: SettingWithCopyWarning: \n",
      "A value is trying to be set on a copy of a slice from a DataFrame.\n",
      "Try using .loc[row_indexer,col_indexer] = value instead\n",
      "\n",
      "See the caveats in the documentation: https://pandas.pydata.org/pandas-docs/stable/user_guide/indexing.html#returning-a-view-versus-a-copy\n",
      "  last_seen_df[\"occur_bin\"] = pd.cut(\n"
     ]
    }
   ],
   "source": [
    "checkpoints = load_checkpoints(SHARED_CHECKPOINT_FOLDER)\n",
    "for checkpoint_name, checkpoint_data in checkpoints.items():\n",
    "    print(f\"📊 Processing checkpoint: {checkpoint_name}\")\n",
    "    df = extract_entity_data(checkpoint_data)\n",
    "    plot_accuracy_by_field(df, \"occurences\", checkpoint_name)\n",
    "    plot_accuracy_by_field(df, \"last_occurence\", checkpoint_name)\n",
    "    plot_occurences_of_last_seen_entities(df, checkpoint_name)"
   ]
  }
 ],
 "metadata": {
  "kernelspec": {
   "display_name": "ai2-olmo-2",
   "language": "python",
   "name": "python3"
  },
  "language_info": {
   "codemirror_mode": {
    "name": "ipython",
    "version": 3
   },
   "file_extension": ".py",
   "mimetype": "text/x-python",
   "name": "python",
   "nbconvert_exporter": "python",
   "pygments_lexer": "ipython3",
   "version": "3.11.11"
  }
 },
 "nbformat": 4,
 "nbformat_minor": 5
}
